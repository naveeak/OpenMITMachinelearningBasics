{
  "nbformat": 4,
  "nbformat_minor": 0,
  "metadata": {
    "colab": {
      "name": "MIT6.036 hw02 -edited colab notebook",
      "provenance": [],
      "collapsed_sections": []
    },
    "kernelspec": {
      "name": "python3",
      "display_name": "Python 3"
    }
  },
  "cells": [
    {
      "cell_type": "markdown",
      "metadata": {
        "id": "_xIaEwCD406A"
      },
      "source": [
        "#MIT 6.036 Spring 2019: Homework 2#\n",
        "\n",
        "This colab notebook provides code and a framework for problems 7-10 of [the homework](https://openlearninglibrary.mit.edu/courses/course-v1:MITx+6.036+1T2019/courseware/Week2/week2_homework/1).  You can work out your solutions here, then submit your results back on the homework page when ready.\n",
        "\n",
        "## <section>**Setup**</section>\n",
        "\n",
        "First, download the code distribution for this homework that contains test cases and helper functions (such as `positive`).\n",
        "\n",
        "Run the next code block to download and import the code for this lab.\n"
      ]
    },
    {
      "cell_type": "code",
      "metadata": {
        "id": "2YM-_zLf9Bp-",
        "colab": {
          "base_uri": "https://localhost:8080/"
        },
        "outputId": "c86139c8-629c-4d1a-a0b9-824ea6be9245"
      },
      "source": [
        "!rm -f code_for_hw02.py*\n",
        "!wget --no-check-certificate --quiet https://introml_oll.odl.mit.edu/6.036/static/homework/hw02/code_for_hw02.py\n",
        "from code_for_hw02 import *"
      ],
      "execution_count": null,
      "outputs": [
        {
          "output_type": "stream",
          "name": "stdout",
          "text": [
            "Importing code_for_hw02\n",
            "New procedures added: tidy_plot, plot_separator, plot_data, plot_nonlin_sep, cv,\n",
            "                      rv, y, positive, score\n",
            "Data Sets: super_simple_separable_through_origin(), super_simple_separable(), xor(),\n",
            "           xor_more()\n",
            "Test data for problem 2.1: data1, labels1, data2, labels2\n",
            "Test data for problem 2.2: big_data, big_data_labels, gen_big_data(), gen_lin_separable(),\n",
            "                           big_higher_dim_separable(), gen_flipped_lin_separable()\n",
            "Test functions: test_linear_classifier(), test_perceptron(), test_averaged_perceptron(),\n",
            "                test_eval_classifier(), test_eval_learning_alg(), test_xval_learning_alg()\n",
            "\n",
            "For more information, use 'help', e.g. 'help tidy_plot'\n",
            "Done with import of code_for_hw02\n"
          ]
        }
      ]
    },
    {
      "cell_type": "code",
      "metadata": {
        "id": "2z1zuhqltjBy",
        "colab": {
          "base_uri": "https://localhost:8080/"
        },
        "outputId": "485ed762-87cf-4a0f-e568-d5ebac068924"
      },
      "source": [
        "help(tidy_plot)"
      ],
      "execution_count": null,
      "outputs": [
        {
          "output_type": "stream",
          "name": "stdout",
          "text": [
            "Help on function tidy_plot in module code_for_hw02:\n",
            "\n",
            "tidy_plot(xmin, xmax, ymin, ymax, center=False, title=None, xlabel=None, ylabel=None)\n",
            "    Set up axes for plotting\n",
            "    xmin, xmax, ymin, ymax = (float) plot extents\n",
            "    Return matplotlib axes\n",
            "\n"
          ]
        }
      ]
    },
    {
      "cell_type": "markdown",
      "metadata": {
        "id": "xFxhrJ5XDlvb"
      },
      "source": [
        ""
      ]
    },
    {
      "cell_type": "code",
      "metadata": {
        "id": "fdu6T1KpDohy"
      },
      "source": [
        "def test(a):\n",
        "  return a + 53"
      ],
      "execution_count": null,
      "outputs": []
    },
    {
      "cell_type": "code",
      "metadata": {
        "id": "T_soC87TDo69"
      },
      "source": [
        "def methodB(a):\n",
        "  return test(a)"
      ],
      "execution_count": null,
      "outputs": []
    },
    {
      "cell_type": "code",
      "metadata": {
        "id": "xnpAY-d_D4J5"
      },
      "source": [
        "def someMethod():\n",
        "  test = 7\n",
        "  return methodB(test + 3)"
      ],
      "execution_count": null,
      "outputs": []
    },
    {
      "cell_type": "code",
      "metadata": {
        "id": "T5_h5O0ND7Fq",
        "colab": {
          "base_uri": "https://localhost:8080/"
        },
        "outputId": "a3806b94-0320-437c-93a7-887dea3785c6"
      },
      "source": [
        "someMethod()"
      ],
      "execution_count": null,
      "outputs": [
        {
          "output_type": "execute_result",
          "data": {
            "text/plain": [
              "63"
            ]
          },
          "metadata": {},
          "execution_count": 12
        }
      ]
    },
    {
      "cell_type": "markdown",
      "metadata": {
        "id": "_bhI4dQB1-UZ"
      },
      "source": [
        "# <section>**7) Implement perceptron**</section>\n",
        "\n",
        "Implement [the perceptron algorithm](https://lms.mitx.mit.edu/courses/course-v1:MITx+6.036+2019_Spring/courseware/Week2/perceptron/2), where\n",
        "\n",
        "* `data` is a numpy array of dimension $d$ by $n$\n",
        "* `labels` is numpy array of dimension $1$ by $n$\n",
        "* `params` is a dictionary specifying extra parameters to this algorithm; your algorithm should run a number of iterations equal to $T$\n",
        "* `hook` is either None or a function that takes the tuple `(th, th0)` as an argument and displays the separator graphically.  We won't be testing this in the Tutor, but it will help you in debugging on your own machine.\n",
        "\n",
        "It should return a tuple of $\\theta$ (a $d$ by 1 array) and $\\theta_0$ (a 1 by 1 array).\n",
        "\n",
        "We have given you some  data sets in the code file for you to test your implementation.\n",
        "\n",
        "Your function should initialize all parameters to 0, then run through the data, in the order it is given, performing an update to the parameters whenever the current parameters would make a mistake on that data point. Perform $T$ iterations through the data. "
      ]
    },
    {
      "cell_type": "code",
      "metadata": {
        "id": "1VOOY4DR-O-q"
      },
      "source": [
        "import numpy as np"
      ],
      "execution_count": 2,
      "outputs": []
    },
    {
      "cell_type": "code",
      "metadata": {
        "id": "4_c14AnxWgRk"
      },
      "source": [
        "def perceptron(data, labels, params = {}, hook = None):\n",
        "  epochCount=params.get('T',700000)\n",
        "  d,n= data.shape\n",
        "  th=np.zeros([d,1])\n",
        "  th0=np.zeros([1,1])\n",
        "  mistakes=0;\n",
        "  for t in range(epochCount):\n",
        "    for i in range(n):\n",
        "      expectedOutput=labels[0,i]\n",
        "      input=np.array([data[:,i]]).T\n",
        "      if (expectedOutput*((np.dot(th.T,input))+th0))<=0:\n",
        "        th0=th0+expectedOutput\n",
        "        th=th+((expectedOutput*input))\n",
        "        mistakes=mistakes+1;\n",
        "  print(mistakes)\n",
        "  return th,th0\n",
        "\n",
        "#test_perceptron(perceptron)"
      ],
      "execution_count": 19,
      "outputs": []
    },
    {
      "cell_type": "code",
      "metadata": {
        "id": "WDW5YmfWleKa"
      },
      "source": [
        "import numpy as np\n",
        "data = np.array([[200, 800, 200, 800],\n",
        "             [0.2,  0.2,  0.8,  0.8]])\n",
        "labels = np.array([[-1., -1., 1., 1.]])\n",
        "data1 = np.array([[0.2, .8, .2, .8],\n",
        "             [0.2,  0.2,  0.8,  0.8]])\n"
      ],
      "execution_count": 24,
      "outputs": []
    },
    {
      "cell_type": "code",
      "metadata": {
        "id": "5wDgVMiakWP-"
      },
      "source": [
        "def perceptron_origin(data, labels, params = {}, hook = None):\n",
        "  epochCount=params.get('T',700000)\n",
        "  d,n= data.shape\n",
        "  th=np.zeros([d,1])\n",
        "  mistakes=0;\n",
        "  for t in range(epochCount):\n",
        "    for i in range(n):\n",
        "      expectedOutput=labels[0,i]\n",
        "      input=np.array([data[:,i]]).T\n",
        "      if (expectedOutput*((np.dot(th.T,input))))<=0:\n",
        "        mistakes=mistakes+1;\n",
        "        th=th+((expectedOutput*input))\n",
        "  print(th)\n",
        "  return mistakes\n",
        "\n"
      ],
      "execution_count": 22,
      "outputs": []
    },
    {
      "cell_type": "code",
      "metadata": {
        "colab": {
          "base_uri": "https://localhost:8080/"
        },
        "id": "o2uuAnTsmKI_",
        "outputId": "8b4d9611-41ff-45b8-f7b3-e59659cc4032"
      },
      "source": [
        "print(perceptron(data1,labels))"
      ],
      "execution_count": 25,
      "outputs": [
        {
          "output_type": "stream",
          "name": "stdout",
          "text": [
            "7\n",
            "(array([[-0.2],\n",
            "       [ 1.6]]), array([[-1.]]))\n"
          ]
        }
      ]
    },
    {
      "cell_type": "code",
      "metadata": {
        "colab": {
          "base_uri": "https://localhost:8080/"
        },
        "id": "gMWp__r3oZZy",
        "outputId": "afb08bb4-a515-4ede-f1f6-2dcc54b5336b"
      },
      "source": [
        "print(perceptron_origin(data,labels))"
      ],
      "execution_count": 23,
      "outputs": [
        {
          "output_type": "stream",
          "name": "stdout",
          "text": [
            "[[2.000000e+02]\n",
            " [3.474998e+05]]\n",
            "1772916\n"
          ]
        }
      ]
    },
    {
      "cell_type": "code",
      "metadata": {
        "colab": {
          "base_uri": "https://localhost:8080/"
        },
        "id": "1PcRsYDDWlzN",
        "outputId": "8b23b12a-94e6-458d-f7c1-343749c69d9d"
      },
      "source": [
        "test_perceptron(perceptron)"
      ],
      "execution_count": null,
      "outputs": [
        {
          "output_type": "stream",
          "name": "stdout",
          "text": [
            "-----------Test Perceptron 0-----------\n",
            "Passed! \n",
            "\n",
            "-----------Test Perceptron 1-----------\n",
            "Passed! \n",
            "\n"
          ]
        }
      ]
    },
    {
      "cell_type": "code",
      "metadata": {
        "id": "VtYf8ysk-VQU"
      },
      "source": [
        "def perceptron(data, labels, params = {}, hook = None):    \n",
        "    # if T not in params, default to 100\n",
        "    T = params.get('T', 100)\n",
        "    # Your implementation here\n",
        "    d, n = data.shape\n",
        "    theta = np.zeros((d,1))\n",
        "    theta_0 = np.zeros(1)\n",
        "    print(\"d = {}, n = {}, theta shape = {}, theta_0 shape = {}\".format(d,n,theta.shape,theta_0.shape))\n",
        "  \n",
        "    for t in range(T):     \n",
        "      for i in range(n):\n",
        "        y = labels[0,i]\n",
        "        x = data[:,i]\n",
        "        \n",
        "        a = np.dot(x,theta)+theta_0\n",
        "        #print(\"a = {}\".format(a))\n",
        "        positive = np.sign(y*a)\n",
        "        \n",
        "        if np.sign(y*a) <=0: # update the thetas\n",
        "          theta[:,0] = theta[:,0]+ y*x\n",
        "          theta_0 = theta_0 + y\n",
        "          \n",
        "    print(\"shape x = {}, y = {}, theta = {}, theta_0 = {}\".format(x.shape,y.shape,theta.shape,theta_0.shape))\n",
        "    return (theta,theta_0)\n",
        "        \n",
        "          "
      ],
      "execution_count": null,
      "outputs": []
    },
    {
      "cell_type": "code",
      "metadata": {
        "id": "92r2oL42-yfM",
        "colab": {
          "base_uri": "https://localhost:8080/"
        },
        "outputId": "22b46ec4-5337-4bef-f446-4fd4309c4090"
      },
      "source": [
        "test_perceptron(perceptron)"
      ],
      "execution_count": null,
      "outputs": [
        {
          "output_type": "stream",
          "name": "stdout",
          "text": [
            "d = 2, n = 4, theta shape = (2, 1), theta_0 shape = (1,)\n",
            "shape x = (2,), y = (), theta = (2, 1), theta_0 = (1,)\n",
            "-----------Test Perceptron 0-----------\n",
            "Passed! \n",
            "\n",
            "d = 2, n = 4, theta shape = (2, 1), theta_0 shape = (1,)\n",
            "shape x = (2,), y = (), theta = (2, 1), theta_0 = (1,)\n",
            "-----------Test Perceptron 1-----------\n",
            "Passed! \n",
            "\n"
          ]
        }
      ]
    },
    {
      "cell_type": "code",
      "metadata": {
        "id": "1dL4JHhkWkVA"
      },
      "source": [
        ""
      ],
      "execution_count": null,
      "outputs": []
    },
    {
      "cell_type": "markdown",
      "metadata": {
        "id": "hQMcSWlmB4-Y"
      },
      "source": [
        "# <section>8) Implement averaged perceptron</section>\n",
        "\n",
        "Regular perceptron can be somewhat sensitive to the most recent examples that it sees. Instead, averaged perceptron produces a more stable output by outputting the average value of `th` and `th0` across all iterations.\n",
        "\n",
        "Implement averaged perceptron with the same spec as regular perceptron, and using the pseudocode below as a guide.\n",
        "<pre>\n",
        "procedure averaged_perceptron({(x^(i), y^(i)), i=1,...n}, T)\n",
        "    th = 0 (d by 1); th0 = 0 (1 by 1)\n",
        "    ths = 0 (d by 1); th0s = 0 (1 by 1)\n",
        "    for t = 1,...,T do:\n",
        "        for i = 1,...,n do:\n",
        "\t        if y^(i)(th . x^(i) + th0) <= 0 then\n",
        "              th = th + y^(i)x^(i)\n",
        "              th0 = th0 + y^(i)\n",
        "\t        ths = ths + th\n",
        "\t        th0s = th0s + th0\n",
        "    return ths/(nT), th0s/(nT)\n",
        "</pre>"
      ]
    },
    {
      "cell_type": "code",
      "metadata": {
        "colab": {
          "base_uri": "https://localhost:8080/"
        },
        "id": "x7w_oE9g3E3j",
        "outputId": "bbc543cc-37b5-4d94-f9de-c893329f7f52"
      },
      "source": [
        "def averaged_perceptron(data, labels, params={}, hook=None):\n",
        "  epochCount=params.get('T',1)\n",
        "  d,n= data.shape\n",
        "  th=np.zeros([d,1])\n",
        "  thSum=np.zeros([d,1])\n",
        "  th0=np.zeros([1,1])\n",
        "  th0Sum=np.zeros([1,1])\n",
        "  for t in range(epochCount):\n",
        "    for i in range(n):\n",
        "      expectedOutput=labels[0,i]\n",
        "      input=np.array([data[:,i]]).T\n",
        "      if (expectedOutput*((np.dot(th.T,input))+th0))<=0:\n",
        "        th0=th0+expectedOutput\n",
        "        th=th+((expectedOutput*input))\n",
        "      thSum=thSum+th\n",
        "      th0Sum=th0Sum+th0\n",
        "  \n",
        "  return thSum/(n*epochCount),th0Sum/(n*epochCount)\n",
        "test_averaged_perceptron(averaged_perceptron)"
      ],
      "execution_count": null,
      "outputs": [
        {
          "output_type": "stream",
          "name": "stdout",
          "text": [
            "-----------Test Averaged Perceptron 0-----------\n",
            "Passed! \n",
            "\n",
            "-----------Test Averaged Perceptron 1-----------\n",
            "Passed! \n",
            "\n"
          ]
        }
      ]
    },
    {
      "cell_type": "code",
      "metadata": {
        "id": "XAwW00MU_FzS"
      },
      "source": [
        "def averaged_perceptron(data, labels, params={}, hook=None):\n",
        "    # if T not in params, default to 100\n",
        "    T = params.get('T', 100)\n",
        "    d, n = data.shape\n",
        "    theta = np.zeros((d,1))\n",
        "    theta_0 = np.zeros(1)\n",
        "    ths = np.zeros((d,1))\n",
        "    th0s = np.zeros(1)\n",
        "    print(\"d = {}, n = {}, theta shape = {}, theta_0 shape = {}\".format(d,n,theta.shape,theta_0.shape))\n",
        "  \n",
        "    for t in range(T):     \n",
        "      for i in range(n):\n",
        "        y = labels[0,i]\n",
        "        x = data[:,i]\n",
        "        \n",
        "        a = np.dot(x,theta)+theta_0\n",
        "        #print(\"a = {}\".format(a))\n",
        "        positive = np.sign(y*a)\n",
        "        \n",
        "        if np.sign(y*a) <=0: # update the thetas\n",
        "          theta[:,0] = theta[:,0]+ y*x\n",
        "          theta_0 = theta_0 + y\n",
        "        \n",
        "        ths += theta\n",
        "        th0s += theta_0\n",
        "        \n",
        "          \n",
        "    #print(\"shape x = {}, y = {}, theta = {}, theta_0 = {}\".format(x.shape,y.shape,theta.shape,theta_0.shape))\n",
        "    return (ths/(n*T),th0s/(n*T))"
      ],
      "execution_count": null,
      "outputs": []
    },
    {
      "cell_type": "code",
      "metadata": {
        "id": "kyLGH0_cBFSU",
        "colab": {
          "base_uri": "https://localhost:8080/"
        },
        "outputId": "cde5e068-fb51-4d5c-d629-8490c47a2b6f"
      },
      "source": [
        "test_averaged_perceptron(averaged_perceptron)"
      ],
      "execution_count": null,
      "outputs": [
        {
          "output_type": "stream",
          "name": "stdout",
          "text": [
            "d = 2, n = 4, theta shape = (2, 1), theta_0 shape = (1,)\n",
            "-----------Test Averaged Perceptron 0-----------\n",
            "Passed! \n",
            "\n",
            "d = 2, n = 4, theta shape = (2, 1), theta_0 shape = (1,)\n",
            "-----------Test Averaged Perceptron 1-----------\n",
            "Passed! \n",
            "\n"
          ]
        }
      ]
    },
    {
      "cell_type": "markdown",
      "metadata": {
        "id": "NTfGq7LNGceQ"
      },
      "source": [
        "# 9) Implement evaluation strategies\n",
        "  \n",
        "## 9.1)  Evaluating a classifier\n",
        "\n",
        "To evaluate a classifier, we are interested in how well it performs on data that it wasn't trained on. Construct a testing procedure that uses a training data set, calls a learning algorithm to get a linear separator (a tuple of $\\theta, \\theta_0$), and then reports the percentage correct on a new testing set as a float between 0. and 1..\n",
        "\n",
        "The learning algorithm is passed as a function that takes a data array and a labels vector.  Your evaluator should be able to interchangeably evaluate `perceptron` or `averaged_perceptron` (or future algorithms with the same spec), depending on what is passed through the `learner` parameter.\n",
        "\n",
        "The `eval_classifier` function should accept the following parameters:\n",
        "\n",
        "* <tt>learner</tt> - a function, such as perceptron or averaged_perceptron\n",
        "* <tt>data_train</tt> - training data\n",
        "* <tt>labels_train</tt> - training labels\n",
        "* <tt>data_test</tt> - test data\n",
        "* <tt>labels_test</tt> - test labels\n",
        "\n",
        "Assume that you have available the function `score` from HW 1, which takes inputs:\n",
        "\n",
        "* <tt>data</tt>: a <tt>d</tt> by <tt>n</tt> array of floats (representing <tt>n</tt> data points in <tt>d</tt> dimensions)\n",
        "* <tt>labels</tt>: a <tt>1</tt> by <tt>n</tt> array of elements in <tt>(+1, -1)</tt>, representing target labels\n",
        "* <tt>th</tt>: a <tt>d</tt> by <tt>1</tt> array of floats that together with\n",
        "* <tt>th0</tt>: a single scalar or 1 by 1 array, represents a hyperplane\n",
        "\n",
        "and returns 1 by 1 matrix with an integer indicating number of data points correct for the separator."
      ]
    },
    {
      "cell_type": "code",
      "metadata": {
        "colab": {
          "base_uri": "https://localhost:8080/"
        },
        "id": "fk2nyKmL5YhC",
        "outputId": "cb4b236a-bf95-460a-a45a-cf18a3eba78e"
      },
      "source": [
        "def eval_classifier(learner, data_train, labels_train, data_test, labels_test):\n",
        "  th,th0=learner(data_train,labels_train)\n",
        "  #getting theta and theta 0 after training of data \n",
        "  d,n=data_test.shape\n",
        "  hits=0#detecting no of correct information in testing data\n",
        "  for i in range(n):\n",
        "    expectedOutput=labels_test[0,i]\n",
        "    input=np.array([data_test[:,i]]).T\n",
        "    if (expectedOutput*((np.dot(th.T,input))+th0))>=0:\n",
        "      hits=hits+1\n",
        "  return hits/n\n",
        "\n",
        "\n",
        "test_eval_classifier(eval_classifier,perceptron)"
      ],
      "execution_count": null,
      "outputs": [
        {
          "output_type": "stream",
          "name": "stdout",
          "text": [
            "d = 2, n = 30, theta shape = (2, 1), theta_0 shape = (1,)\n",
            "shape x = (2,), y = (), theta = (2, 1), theta_0 = (1,)\n",
            "-----------Test Eval Classifier 0-----------\n",
            "Passed! \n",
            "\n",
            "d = 2, n = 30, theta shape = (2, 1), theta_0 shape = (1,)\n",
            "shape x = (2,), y = (), theta = (2, 1), theta_0 = (1,)\n",
            "-----------Test Eval Classifier 1-----------\n",
            "Passed! \n",
            "\n"
          ]
        }
      ]
    },
    {
      "cell_type": "code",
      "metadata": {
        "id": "uSip1lfHBKaT"
      },
      "source": [
        "def eval_classifier(learner, data_train, labels_train, data_test, labels_test):\n",
        "    theta, theta_0 = learner(data_train,labels_train)\n",
        "    print(\"theta shape = {}, theta_0 shape = {}, data_test shape = {}\".format(theta.shape, theta_0.shape, data_test.shape))\n",
        "    print(theta)\n",
        "    # shape = n by 1\n",
        "    a = np.matmul(data_test.T,theta)+theta_0\n",
        "    #print(\"a shape = {}\".format(a.shape))\n",
        "    #print(labels_test)\n",
        "   \n",
        "    # shape 1 by n\n",
        "    predict_labels = np.transpose(np.sign(a))\n",
        "  \n",
        "    #print(predict_labels)\n",
        "    scores = (predict_labels == labels_test)\n",
        "    print(scores)\n",
        "    final_score = np.mean(scores)\n",
        "    \n",
        "    return final_score"
      ],
      "execution_count": null,
      "outputs": []
    },
    {
      "cell_type": "code",
      "metadata": {
        "id": "beHMGAb6BTu1",
        "colab": {
          "base_uri": "https://localhost:8080/"
        },
        "outputId": "02519902-e78f-410a-c517-71a170f2d8db"
      },
      "source": [
        "test_eval_classifier(eval_classifier,perceptron)"
      ],
      "execution_count": null,
      "outputs": [
        {
          "output_type": "stream",
          "name": "stdout",
          "text": [
            "d = 2, n = 30, theta shape = (2, 1), theta_0 shape = (1,)\n",
            "shape x = (2,), y = (), theta = (2, 1), theta_0 = (1,)\n",
            "theta shape = (2, 1), theta_0 shape = (1,), data_test shape = (2, 30)\n",
            "[[3.19695273]\n",
            " [0.10839974]]\n",
            "[[False  True  True  True False False  True  True False  True False  True\n",
            "   True False False False False  True  True False  True  True False  True\n",
            "   True False False  True  True False]]\n",
            "-----------Test Eval Classifier 0-----------\n",
            "Passed! \n",
            "\n",
            "d = 2, n = 30, theta shape = (2, 1), theta_0 shape = (1,)\n",
            "shape x = (2,), y = (), theta = (2, 1), theta_0 = (1,)\n",
            "theta shape = (2, 1), theta_0 shape = (1,), data_test shape = (2, 30)\n",
            "[[-2.53272084]\n",
            " [ 2.5282913 ]]\n",
            "[[ True False  True False  True  True False  True  True False  True  True\n",
            "   True  True  True  True  True False False  True False False  True False\n",
            "  False  True  True False  True  True]]\n",
            "-----------Test Eval Classifier 1-----------\n",
            "Passed! \n",
            "\n"
          ]
        }
      ]
    },
    {
      "cell_type": "markdown",
      "metadata": {
        "id": "-WPStky3GiJb"
      },
      "source": [
        "## <subsection>9.2) Evaluating a learning algorithm using a data source</subsection>\n",
        "\n",
        "Construct a testing procedure that takes a learning algorithm and a data source as input and runs the learning algorithm multiple times, each time evaluating the resulting classifier as above. It should report the overall average classification accuracy.\n",
        "\n",
        "You can use our implementation of `eval_classifier` as above.\n",
        "\n",
        "Write the function `eval_learning_alg` that takes:\n",
        "\n",
        "* <tt>learner</tt> - a function, such as perceptron or averaged_perceptron\n",
        "* <tt>data_gen</tt> - a data generator, call it with a desired data set size; returns a tuple (data, labels)\n",
        "* <tt>n_train</tt> - the size of the learning sets\n",
        "* <tt>n_test</tt> - the size of the test sets\n",
        "* <tt>it</tt> - the number of iterations to average over\n",
        "\n",
        "and returns the average classification accuracy as a float between 0. and 1..  \n",
        "\n",
        "** Note: Be sure to generate your training data and then testing data in that order, to ensure that the pseudorandomly generated data matches that in the test code. **"
      ]
    },
    {
      "cell_type": "code",
      "metadata": {
        "colab": {
          "base_uri": "https://localhost:8080/"
        },
        "id": "Jef0vpC-stCw",
        "outputId": "24154c98-3f17-4e31-d638-1b3a464ea759"
      },
      "source": [
        "def eval_learning_alg(learner, data_gen, n_train, n_test, it):\n",
        "  score=0\n",
        "  for i in range(it):\n",
        "    data_train,labels_train=data_gen(n_train)\n",
        "    data_test,labels_test=data_gen(n_test)\n",
        "    perfScore=eval_classifier(learner,data_train,labels_train,data_test,labels_test)\n",
        "    score=score+perfScore\n",
        "  \n",
        "  return score/it\n",
        "test_eval_learning_alg(eval_learning_alg,perceptron)"
      ],
      "execution_count": null,
      "outputs": [
        {
          "output_type": "stream",
          "name": "stdout",
          "text": [
            "d = 2, n = 10, theta shape = (2, 1), theta_0 shape = (1,)\n",
            "shape x = (2,), y = (), theta = (2, 1), theta_0 = (1,)\n",
            "theta shape = (2, 1), theta_0 shape = (1,), data_test shape = (2, 10)\n",
            "[[0.13368101]\n",
            " [0.87537888]]\n",
            "[[ True  True False False  True False  True False  True False]]\n",
            "d = 2, n = 10, theta shape = (2, 1), theta_0 shape = (1,)\n",
            "shape x = (2,), y = (), theta = (2, 1), theta_0 = (1,)\n",
            "theta shape = (2, 1), theta_0 shape = (1,), data_test shape = (2, 10)\n",
            "[[-0.40522929]\n",
            " [-3.71502634]]\n",
            "[[False False False False False False  True False False  True]]\n",
            "d = 2, n = 10, theta shape = (2, 1), theta_0 shape = (1,)\n",
            "shape x = (2,), y = (), theta = (2, 1), theta_0 = (1,)\n",
            "theta shape = (2, 1), theta_0 shape = (1,), data_test shape = (2, 10)\n",
            "[[-3.27116076]\n",
            " [ 0.41978856]]\n",
            "[[False False  True False False  True  True False False False]]\n",
            "d = 2, n = 10, theta shape = (2, 1), theta_0 shape = (1,)\n",
            "shape x = (2,), y = (), theta = (2, 1), theta_0 = (1,)\n",
            "theta shape = (2, 1), theta_0 shape = (1,), data_test shape = (2, 10)\n",
            "[[5.42252635]\n",
            " [1.80439054]]\n",
            "[[ True  True  True  True False  True  True  True  True  True]]\n",
            "d = 2, n = 10, theta shape = (2, 1), theta_0 shape = (1,)\n",
            "shape x = (2,), y = (), theta = (2, 1), theta_0 = (1,)\n",
            "theta shape = (2, 1), theta_0 shape = (1,), data_test shape = (2, 10)\n",
            "[[ 4.42789539]\n",
            " [-0.89829134]]\n",
            "[[False  True  True  True  True  True  True  True  True  True]]\n",
            "-----------Test Eval Learning Algo-----------\n",
            "Passed! \n",
            "\n"
          ]
        }
      ]
    },
    {
      "cell_type": "code",
      "metadata": {
        "id": "6qytb8giBXZq"
      },
      "source": [
        "def eval_learning_alg(learner, data_gen, n_train, n_test, it):\n",
        "    score = 0\n",
        "    for i in range(it):\n",
        "        data_train, labels_train = data_gen(n_train)\n",
        "        data_test, labels_test = data_gen(n_test) \n",
        "        score_i = eval_classifier(learner, data_train, labels_train, data_test, labels_test)\n",
        "        print(\"score_i = {}\".format(score_i))\n",
        "        \n",
        "        score+= score_i\n",
        "    \n",
        "    return score/it"
      ],
      "execution_count": null,
      "outputs": []
    },
    {
      "cell_type": "code",
      "metadata": {
        "id": "uCZojUBJBb06",
        "colab": {
          "base_uri": "https://localhost:8080/"
        },
        "outputId": "ac114d1d-d96f-4d1a-edcf-3881c09c6ea4"
      },
      "source": [
        "test_eval_learning_alg(eval_learning_alg,perceptron)"
      ],
      "execution_count": null,
      "outputs": [
        {
          "output_type": "stream",
          "name": "stdout",
          "text": [
            "d = 2, n = 10, theta shape = (2, 1), theta_0 shape = (1,)\n",
            "shape x = (2,), y = (), theta = (2, 1), theta_0 = (1,)\n",
            "theta shape = (2, 1), theta_0 shape = (1,), data_test shape = (2, 10)\n",
            "[[0.13368101]\n",
            " [0.87537888]]\n",
            "[[ True  True False False  True False  True False  True False]]\n",
            "score_i = 0.5\n",
            "d = 2, n = 10, theta shape = (2, 1), theta_0 shape = (1,)\n",
            "shape x = (2,), y = (), theta = (2, 1), theta_0 = (1,)\n",
            "theta shape = (2, 1), theta_0 shape = (1,), data_test shape = (2, 10)\n",
            "[[-0.40522929]\n",
            " [-3.71502634]]\n",
            "[[False False False False False False  True False False  True]]\n",
            "score_i = 0.2\n",
            "d = 2, n = 10, theta shape = (2, 1), theta_0 shape = (1,)\n",
            "shape x = (2,), y = (), theta = (2, 1), theta_0 = (1,)\n",
            "theta shape = (2, 1), theta_0 shape = (1,), data_test shape = (2, 10)\n",
            "[[-3.27116076]\n",
            " [ 0.41978856]]\n",
            "[[False False  True False False  True  True False False False]]\n",
            "score_i = 0.3\n",
            "d = 2, n = 10, theta shape = (2, 1), theta_0 shape = (1,)\n",
            "shape x = (2,), y = (), theta = (2, 1), theta_0 = (1,)\n",
            "theta shape = (2, 1), theta_0 shape = (1,), data_test shape = (2, 10)\n",
            "[[5.42252635]\n",
            " [1.80439054]]\n",
            "[[ True  True  True  True False  True  True  True  True  True]]\n",
            "score_i = 0.9\n",
            "d = 2, n = 10, theta shape = (2, 1), theta_0 shape = (1,)\n",
            "shape x = (2,), y = (), theta = (2, 1), theta_0 = (1,)\n",
            "theta shape = (2, 1), theta_0 shape = (1,), data_test shape = (2, 10)\n",
            "[[ 4.42789539]\n",
            " [-0.89829134]]\n",
            "[[False  True  True  True  True  True  True  True  True  True]]\n",
            "score_i = 0.9\n",
            "-----------Test Eval Learning Algo-----------\n",
            "Passed! \n",
            "\n"
          ]
        }
      ]
    },
    {
      "cell_type": "markdown",
      "metadata": {
        "id": "60u9G0QnGzv-"
      },
      "source": [
        "## <subsection>9.3) Evaluating a learning algorithm with a fixed dataset</subsection>\n",
        "\n",
        "Cross-validation is a strategy for evaluating a learning algorithm, using a single training set of size $n$. Cross-validation takes in a learning algorithm $L$, a fixed data set $\\mathcal{D}$, and a parameter $k$. It will run the learning algorithm $k$ different times, then evaluate the accuracy of the resulting classifier, and ultimately return the average of the accuracies over each of the $k$ \"runs\" of $L$. It is structured like this:\n",
        "\n",
        "<pre><code>divide D into k parts, as equally as possible;  call them D_i for i == 0 .. k-1\n",
        "# be sure the data is shuffled in case someone put all the positive examples first in the data!\n",
        "for j from 0 to k-1:\n",
        "    D_minus_j = union of all the datasets D_i, except for D_j\n",
        "    h_j = L(D_minus_j)\n",
        "    score_j = accuracy of h_j measured on D_j\n",
        "return average(score0, ..., score(k-1))\n",
        "</code></pre>\n",
        "\n",
        "So, each time, it trains on  $k−1$ of the pieces of the data set and tests the resulting hypothesis on the piece that was not used for training.\n",
        "\n",
        "When $k=n$, it is called *leave-one-out cross validation*.\n",
        "\n",
        "Implement cross validation **assuming that the input data is shuffled already** so that the positives and negatives are distributed randomly. If the size of the data does not evenly divide by k, split the data into n % k sub-arrays of size n//k + 1 and the rest of size n//k. (Hint: You can use <a href=\"https://docs.scipy.org/doc/numpy/reference/generated/numpy.array_split.html\">numpy.array_split</a>\n",
        "and <a href=\"https://docs.scipy.org/doc/numpy/reference/generated/numpy.concatenate.html\">numpy.concatenate</a> with axis arguments to split and rejoin the data as you desire.)\n",
        "\n",
        "Note: In Python, n//k indicates integer division, e.g. 2//3 gives 0 and 4//3 gives 1."
      ]
    },
    {
      "cell_type": "code",
      "metadata": {
        "id": "SP-v4wBTvsVB",
        "colab": {
          "base_uri": "https://localhost:8080/"
        },
        "outputId": "6cc715b9-a6c7-46f3-b60f-ca45df0d3cd2"
      },
      "source": [
        "def xval_learning_alg(learner, data, labels, k):\n",
        "  score=0\n",
        "  data_split=np.array_split(data,k,axis=1)\n",
        "  labels_split=np.array_split(labels,k,axis=1)\n",
        "  for i in range(k):\n",
        "    data_train=np.array(np.concatenate(data_split[:i]+data_split[i+1:],axis=1))\n",
        "    labels_train=np.array(np.concatenate(labels_split[:i]+labels_split[i+1:],axis=1))\n",
        "    data_test=np.array(data_split[i])\n",
        "    labels_test=np.array(labels_split[i])\n",
        "    perfScore=eval_classifier(learner,data_train,labels_train,data_test,labels_test)\n",
        "    score=score+perfScore\n",
        "  return score/k\n",
        "test_xval_learning_alg(xval_learning_alg,perceptron)"
      ],
      "execution_count": null,
      "outputs": [
        {
          "output_type": "stream",
          "name": "stdout",
          "text": [
            "d = 2, n = 80, theta shape = (2, 1), theta_0 shape = (1,)\n",
            "shape x = (2,), y = (), theta = (2, 1), theta_0 = (1,)\n",
            "theta shape = (2, 1), theta_0 shape = (1,), data_test shape = (2, 20)\n",
            "[[ 4.33750906]\n",
            " [-1.43826341]]\n",
            "[[ True  True  True False False  True  True False False  True  True False\n",
            "   True  True False  True False False  True False]]\n",
            "d = 2, n = 80, theta shape = (2, 1), theta_0 shape = (1,)\n",
            "shape x = (2,), y = (), theta = (2, 1), theta_0 = (1,)\n",
            "theta shape = (2, 1), theta_0 shape = (1,), data_test shape = (2, 20)\n",
            "[[5.41400844]\n",
            " [0.12577919]]\n",
            "[[False  True False  True False  True False  True False False  True  True\n",
            "  False  True  True  True False  True  True  True]]\n",
            "d = 2, n = 80, theta shape = (2, 1), theta_0 shape = (1,)\n",
            "shape x = (2,), y = (), theta = (2, 1), theta_0 = (1,)\n",
            "theta shape = (2, 1), theta_0 shape = (1,), data_test shape = (2, 20)\n",
            "[[4.96967703]\n",
            " [0.53961321]]\n",
            "[[ True False  True False  True False False False False False  True  True\n",
            "  False  True  True False False  True  True  True]]\n",
            "d = 2, n = 80, theta shape = (2, 1), theta_0 shape = (1,)\n",
            "shape x = (2,), y = (), theta = (2, 1), theta_0 = (1,)\n",
            "theta shape = (2, 1), theta_0 shape = (1,), data_test shape = (2, 20)\n",
            "[[4.8554351 ]\n",
            " [1.04411716]]\n",
            "[[False False  True False  True  True  True  True False  True  True  True\n",
            "   True  True False False False  True  True  True]]\n",
            "d = 2, n = 80, theta shape = (2, 1), theta_0 shape = (1,)\n",
            "shape x = (2,), y = (), theta = (2, 1), theta_0 = (1,)\n",
            "theta shape = (2, 1), theta_0 shape = (1,), data_test shape = (2, 20)\n",
            "[[0.51919799]\n",
            " [0.18628525]]\n",
            "[[ True  True  True  True False False  True False False  True False  True\n",
            "   True  True  True  True  True  True  True  True]]\n",
            "-----------Test Cross-eval Learning Algo-----------\n",
            "Passed! \n",
            "\n"
          ]
        }
      ]
    },
    {
      "cell_type": "code",
      "metadata": {
        "id": "JC9WOGrOvsYy"
      },
      "source": [
        ""
      ],
      "execution_count": null,
      "outputs": []
    },
    {
      "cell_type": "code",
      "metadata": {
        "id": "SIjSLHdzvscY"
      },
      "source": [
        ""
      ],
      "execution_count": null,
      "outputs": []
    },
    {
      "cell_type": "code",
      "metadata": {
        "id": "cwlO9n1Kvsfi"
      },
      "source": [
        ""
      ],
      "execution_count": null,
      "outputs": []
    },
    {
      "cell_type": "code",
      "metadata": {
        "id": "X3QJil7Qvsi_"
      },
      "source": [
        ""
      ],
      "execution_count": null,
      "outputs": []
    },
    {
      "cell_type": "code",
      "metadata": {
        "id": "nxbo7Uhivsl5"
      },
      "source": [
        ""
      ],
      "execution_count": null,
      "outputs": []
    },
    {
      "cell_type": "code",
      "metadata": {
        "id": "W5_iixOmBgR7"
      },
      "source": [
        "def xval_learning_alg(learner, data, labels, k):\n",
        "    data_split = np.array_split(data,k)\n",
        "    labels_split = np.array_split(labels,k)\n",
        "    \n",
        "    print(\"k = {}, len of split = {}\".format(k,len(data)))\n",
        "    \n",
        "    for i in range(k):\n",
        "      data\n",
        "    "
      ],
      "execution_count": null,
      "outputs": []
    },
    {
      "cell_type": "code",
      "metadata": {
        "id": "iUiUgtMHBiZX",
        "colab": {
          "base_uri": "https://localhost:8080/",
          "height": 136
        },
        "outputId": "d56471f5-dde1-4a98-a1e5-02120decb9d4"
      },
      "source": [
        "test_xval_learning_alg(xval_learning_alg,perceptron)"
      ],
      "execution_count": null,
      "outputs": [
        {
          "output_type": "stream",
          "text": [
            "k = 5, len of split = 5\n",
            "-----------Test Cross-eval Learning Algo-----------\n",
            "Test Failed.\n",
            "Your code output  None\n",
            "Expected  0.61\n",
            "\n",
            "\n"
          ],
          "name": "stdout"
        }
      ]
    },
    {
      "cell_type": "markdown",
      "metadata": {
        "id": "crF8flfB3hr1"
      },
      "source": [
        "## 10) Testing\n",
        "\n",
        "In this section, we compare the effectiveness of perceptron and averaged perceptron on some data that are not necessarily linearly separable.\n",
        "\n",
        "Use your `eval_learning_alg` and the `gen_flipped_lin_separable` generator in the code file to evaluate the accuracy of `perceptron` vs. a`veraged_perceptron`. `gen_flipped_lin_separable` can be called with an integer to return a data set and labels. Note that this generates linearly separable data and then \"flips\" the labels with some specified probability (the argument pflip); so most of the results will not be linearly separable. You can also specifiy pflip in the call to the generator. You should use the default values of th and th_0 to retain consistency with the Tutor.\n",
        "\n",
        "Run enough trials so that you can confidently predict the accuracy of these algorithms on new data from that same generator; assume training/test sets on the order of 20 points. The Tutor will check that your answer is within 0.025 of the answer we got using the same generator."
      ]
    },
    {
      "cell_type": "code",
      "metadata": {
        "id": "CXFoptqiI6Aw",
        "colab": {
          "base_uri": "https://localhost:8080/"
        },
        "outputId": "872873d7-9402-4380-a0af-acdbe4e693ff"
      },
      "source": [
        "print(eval_learning_alg(perceptron, gen_flipped_lin_separable(pflip=.1), 20, 20, 5))"
      ],
      "execution_count": null,
      "outputs": [
        {
          "output_type": "stream",
          "name": "stdout",
          "text": [
            "d = 2, n = 20, theta shape = (2, 1), theta_0 shape = (1,)\n",
            "shape x = (2,), y = (), theta = (2, 1), theta_0 = (1,)\n",
            "theta shape = (2, 1), theta_0 shape = (1,), data_test shape = (2, 20)\n",
            "[[-3.60006126]\n",
            " [ 2.34284477]]\n",
            "[[False False False False  True False False False  True  True False  True\n",
            "   True False  True  True  True  True  True  True]]\n",
            "score_i = 0.55\n",
            "d = 2, n = 20, theta shape = (2, 1), theta_0 shape = (1,)\n",
            "shape x = (2,), y = (), theta = (2, 1), theta_0 = (1,)\n",
            "theta shape = (2, 1), theta_0 shape = (1,), data_test shape = (2, 20)\n",
            "[[-0.08657067]\n",
            " [ 6.23297975]]\n",
            "[[ True False  True  True  True  True False  True  True False False  True\n",
            "  False  True  True  True  True  True False  True]]\n",
            "score_i = 0.7\n",
            "d = 2, n = 20, theta shape = (2, 1), theta_0 shape = (1,)\n",
            "shape x = (2,), y = (), theta = (2, 1), theta_0 = (1,)\n",
            "theta shape = (2, 1), theta_0 shape = (1,), data_test shape = (2, 20)\n",
            "[[4.53030407]\n",
            " [8.68648819]]\n",
            "[[ True  True  True  True  True  True  True  True  True  True  True False\n",
            "   True  True  True  True  True  True  True  True]]\n",
            "score_i = 0.95\n",
            "d = 2, n = 20, theta shape = (2, 1), theta_0 shape = (1,)\n",
            "shape x = (2,), y = (), theta = (2, 1), theta_0 = (1,)\n",
            "theta shape = (2, 1), theta_0 shape = (1,), data_test shape = (2, 20)\n",
            "[[ 4.34538224]\n",
            " [10.665911  ]]\n",
            "[[ True  True  True  True False  True  True  True  True  True  True  True\n",
            "   True False  True  True  True  True  True  True]]\n",
            "score_i = 0.9\n",
            "d = 2, n = 20, theta shape = (2, 1), theta_0 shape = (1,)\n",
            "shape x = (2,), y = (), theta = (2, 1), theta_0 = (1,)\n",
            "theta shape = (2, 1), theta_0 shape = (1,), data_test shape = (2, 20)\n",
            "[[-0.03535867]\n",
            " [ 2.34721758]]\n",
            "[[ True  True False  True  True  True  True False False False  True  True\n",
            "   True  True  True False  True False  True  True]]\n",
            "score_i = 0.7\n",
            "0.76\n"
          ]
        }
      ]
    },
    {
      "cell_type": "code",
      "metadata": {
        "colab": {
          "base_uri": "https://localhost:8080/"
        },
        "id": "6VpX1XVZRvut",
        "outputId": "075bd5f9-a306-40b8-bb1e-31d7d1f529e6"
      },
      "source": [
        "print(eval_learning_alg(perceptron, gen_flipped_lin_separable(pflip=.25), 20, 20, 5))"
      ],
      "execution_count": null,
      "outputs": [
        {
          "output_type": "stream",
          "name": "stdout",
          "text": [
            "d = 2, n = 20, theta shape = (2, 1), theta_0 shape = (1,)\n",
            "shape x = (2,), y = (), theta = (2, 1), theta_0 = (1,)\n",
            "theta shape = (2, 1), theta_0 shape = (1,), data_test shape = (2, 20)\n",
            "[[0.9738346 ]\n",
            " [3.83819654]]\n",
            "[[ True  True  True  True  True False False  True  True  True  True  True\n",
            "  False False  True  True  True  True  True  True]]\n",
            "score_i = 0.8\n",
            "d = 2, n = 20, theta shape = (2, 1), theta_0 shape = (1,)\n",
            "shape x = (2,), y = (), theta = (2, 1), theta_0 = (1,)\n",
            "theta shape = (2, 1), theta_0 shape = (1,), data_test shape = (2, 20)\n",
            "[[0.30990577]\n",
            " [1.44717591]]\n",
            "[[ True  True  True False False  True  True  True False False  True  True\n",
            "  False False  True False  True False  True False]]\n",
            "score_i = 0.55\n",
            "d = 2, n = 20, theta shape = (2, 1), theta_0 shape = (1,)\n",
            "shape x = (2,), y = (), theta = (2, 1), theta_0 = (1,)\n",
            "theta shape = (2, 1), theta_0 shape = (1,), data_test shape = (2, 20)\n",
            "[[-3.12718445]\n",
            " [ 2.48884507]]\n",
            "[[False  True False False  True  True False  True False False False  True\n",
            "   True  True False False  True False False False]]\n",
            "score_i = 0.4\n",
            "d = 2, n = 20, theta shape = (2, 1), theta_0 shape = (1,)\n",
            "shape x = (2,), y = (), theta = (2, 1), theta_0 = (1,)\n",
            "theta shape = (2, 1), theta_0 shape = (1,), data_test shape = (2, 20)\n",
            "[[5.70268367]\n",
            " [3.7673221 ]]\n",
            "[[False  True  True  True False False False  True  True False  True False\n",
            "   True  True False False  True False False  True]]\n",
            "score_i = 0.5\n",
            "d = 2, n = 20, theta shape = (2, 1), theta_0 shape = (1,)\n",
            "shape x = (2,), y = (), theta = (2, 1), theta_0 = (1,)\n",
            "theta shape = (2, 1), theta_0 shape = (1,), data_test shape = (2, 20)\n",
            "[[2.88727765]\n",
            " [2.60128136]]\n",
            "[[False  True False False  True  True  True False  True  True  True  True\n",
            "   True  True  True  True False  True  True  True]]\n",
            "score_i = 0.75\n",
            "0.6\n"
          ]
        }
      ]
    },
    {
      "cell_type": "code",
      "metadata": {
        "colab": {
          "base_uri": "https://localhost:8080/"
        },
        "id": "nUswZumARnfN",
        "outputId": "53eca955-8d66-4549-f984-fdc10195c26e"
      },
      "source": [
        "print(eval_learning_alg(averaged_perceptron, gen_flipped_lin_separable(pflip=.1), 20, 20, 5))"
      ],
      "execution_count": null,
      "outputs": [
        {
          "output_type": "stream",
          "name": "stdout",
          "text": [
            "d = 2, n = 20, theta shape = (2, 1), theta_0 shape = (1,)\n",
            "theta shape = (2, 1), theta_0 shape = (1,), data_test shape = (2, 20)\n",
            "[[4.29617913]\n",
            " [4.27439664]]\n",
            "[[ True  True  True  True  True  True  True False  True False False  True\n",
            "   True  True False  True  True  True  True  True]]\n",
            "score_i = 0.8\n",
            "d = 2, n = 20, theta shape = (2, 1), theta_0 shape = (1,)\n",
            "theta shape = (2, 1), theta_0 shape = (1,), data_test shape = (2, 20)\n",
            "[[2.51765627]\n",
            " [3.06513988]]\n",
            "[[ True  True  True  True  True  True  True  True  True  True  True  True\n",
            "   True  True  True  True  True False  True  True]]\n",
            "score_i = 0.95\n",
            "d = 2, n = 20, theta shape = (2, 1), theta_0 shape = (1,)\n",
            "theta shape = (2, 1), theta_0 shape = (1,), data_test shape = (2, 20)\n",
            "[[-1.629429  ]\n",
            " [12.07638644]]\n",
            "[[ True False  True False  True  True  True False False  True  True  True\n",
            "   True  True  True False  True  True False  True]]\n",
            "score_i = 0.7\n",
            "d = 2, n = 20, theta shape = (2, 1), theta_0 shape = (1,)\n",
            "theta shape = (2, 1), theta_0 shape = (1,), data_test shape = (2, 20)\n",
            "[[1.72588777]\n",
            " [2.17789156]]\n",
            "[[False  True  True  True  True  True  True False  True  True  True False\n",
            "   True  True  True False  True  True  True  True]]\n",
            "score_i = 0.8\n",
            "d = 2, n = 20, theta shape = (2, 1), theta_0 shape = (1,)\n",
            "theta shape = (2, 1), theta_0 shape = (1,), data_test shape = (2, 20)\n",
            "[[3.24309347]\n",
            " [6.04879089]]\n",
            "[[ True  True  True  True False  True False  True  True  True  True  True\n",
            "   True  True  True  True False False False  True]]\n",
            "score_i = 0.75\n",
            "0.8\n"
          ]
        }
      ]
    },
    {
      "cell_type": "code",
      "metadata": {
        "colab": {
          "base_uri": "https://localhost:8080/"
        },
        "id": "wFc381kQR3B9",
        "outputId": "9db5e036-a8d6-4045-e59a-7cfc49b56a0b"
      },
      "source": [
        "print(eval_learning_alg(averaged_perceptron, gen_flipped_lin_separable(pflip=.25), 20, 20, 5))"
      ],
      "execution_count": null,
      "outputs": [
        {
          "output_type": "stream",
          "name": "stdout",
          "text": [
            "d = 2, n = 20, theta shape = (2, 1), theta_0 shape = (1,)\n",
            "theta shape = (2, 1), theta_0 shape = (1,), data_test shape = (2, 20)\n",
            "[[-0.67459581]\n",
            " [ 3.28879067]]\n",
            "[[ True  True False  True False False  True  True False  True  True  True\n",
            "   True  True  True  True False  True False  True]]\n",
            "score_i = 0.7\n",
            "d = 2, n = 20, theta shape = (2, 1), theta_0 shape = (1,)\n",
            "theta shape = (2, 1), theta_0 shape = (1,), data_test shape = (2, 20)\n",
            "[[-0.52991886]\n",
            " [ 2.14345677]]\n",
            "[[ True False  True  True False False  True  True  True  True  True  True\n",
            "   True False  True  True  True False False  True]]\n",
            "score_i = 0.7\n",
            "d = 2, n = 20, theta shape = (2, 1), theta_0 shape = (1,)\n",
            "theta shape = (2, 1), theta_0 shape = (1,), data_test shape = (2, 20)\n",
            "[[0.52409199]\n",
            " [3.2350106 ]]\n",
            "[[ True  True  True False False  True  True False  True  True False False\n",
            "   True  True  True  True  True  True  True  True]]\n",
            "score_i = 0.75\n",
            "d = 2, n = 20, theta shape = (2, 1), theta_0 shape = (1,)\n",
            "theta shape = (2, 1), theta_0 shape = (1,), data_test shape = (2, 20)\n",
            "[[-0.16580757]\n",
            " [ 1.34236928]]\n",
            "[[ True  True  True  True  True False  True  True False False  True  True\n",
            "   True  True  True  True  True  True  True False]]\n",
            "score_i = 0.8\n",
            "d = 2, n = 20, theta shape = (2, 1), theta_0 shape = (1,)\n",
            "theta shape = (2, 1), theta_0 shape = (1,), data_test shape = (2, 20)\n",
            "[[-0.12929133]\n",
            " [-1.55173684]]\n",
            "[[ True False False False False  True False False False False False False\n",
            "  False  True False  True  True False False False]]\n",
            "score_i = 0.25\n",
            "0.64\n"
          ]
        }
      ]
    },
    {
      "cell_type": "code",
      "metadata": {
        "id": "S95GE1XrSOr_"
      },
      "source": [
        "def eval_learning_alg_new(learner, data_gen, n_train, n_test, it):\n",
        "    score=0\n",
        "    data_train,labels_train=data_gen(n_train)\n",
        "    data_test,labels_test=data_gen(n_test)\n",
        "    for i in range(it):\n",
        "        perfScore=eval_classifier(learner,data_train,labels_train,data_test,labels_test)\n",
        "        score=score+perfScore\n",
        "\n",
        "    return score/it\n"
      ],
      "execution_count": null,
      "outputs": []
    },
    {
      "cell_type": "code",
      "metadata": {
        "colab": {
          "base_uri": "https://localhost:8080/"
        },
        "id": "AMbrWdYTShk7",
        "outputId": "d3959bf1-af6f-4782-92de-3860fffe627f"
      },
      "source": [
        "print(eval_learning_alg_new(perceptron, gen_flipped_lin_separable(pflip=.1), 20, 20, 5))"
      ],
      "execution_count": null,
      "outputs": [
        {
          "output_type": "stream",
          "name": "stdout",
          "text": [
            "d = 2, n = 20, theta shape = (2, 1), theta_0 shape = (1,)\n",
            "shape x = (2,), y = (), theta = (2, 1), theta_0 = (1,)\n",
            "theta shape = (2, 1), theta_0 shape = (1,), data_test shape = (2, 20)\n",
            "[[0.47890569]\n",
            " [3.9761617 ]]\n",
            "[[False  True  True  True  True False  True  True  True  True  True  True\n",
            "  False  True  True  True  True  True  True  True]]\n",
            "d = 2, n = 20, theta shape = (2, 1), theta_0 shape = (1,)\n",
            "shape x = (2,), y = (), theta = (2, 1), theta_0 = (1,)\n",
            "theta shape = (2, 1), theta_0 shape = (1,), data_test shape = (2, 20)\n",
            "[[0.47890569]\n",
            " [3.9761617 ]]\n",
            "[[False  True  True  True  True False  True  True  True  True  True  True\n",
            "  False  True  True  True  True  True  True  True]]\n",
            "d = 2, n = 20, theta shape = (2, 1), theta_0 shape = (1,)\n",
            "shape x = (2,), y = (), theta = (2, 1), theta_0 = (1,)\n",
            "theta shape = (2, 1), theta_0 shape = (1,), data_test shape = (2, 20)\n",
            "[[0.47890569]\n",
            " [3.9761617 ]]\n",
            "[[False  True  True  True  True False  True  True  True  True  True  True\n",
            "  False  True  True  True  True  True  True  True]]\n",
            "d = 2, n = 20, theta shape = (2, 1), theta_0 shape = (1,)\n",
            "shape x = (2,), y = (), theta = (2, 1), theta_0 = (1,)\n",
            "theta shape = (2, 1), theta_0 shape = (1,), data_test shape = (2, 20)\n",
            "[[0.47890569]\n",
            " [3.9761617 ]]\n",
            "[[False  True  True  True  True False  True  True  True  True  True  True\n",
            "  False  True  True  True  True  True  True  True]]\n",
            "d = 2, n = 20, theta shape = (2, 1), theta_0 shape = (1,)\n",
            "shape x = (2,), y = (), theta = (2, 1), theta_0 = (1,)\n",
            "theta shape = (2, 1), theta_0 shape = (1,), data_test shape = (2, 20)\n",
            "[[0.47890569]\n",
            " [3.9761617 ]]\n",
            "[[False  True  True  True  True False  True  True  True  True  True  True\n",
            "  False  True  True  True  True  True  True  True]]\n",
            "0.85\n"
          ]
        }
      ]
    },
    {
      "cell_type": "code",
      "metadata": {
        "colab": {
          "base_uri": "https://localhost:8080/"
        },
        "id": "5lIZ3yYCSh1S",
        "outputId": "510b3f9b-140a-425e-c777-9a3fc6cf34b6"
      },
      "source": [
        "print(eval_learning_alg_new(perceptron, gen_flipped_lin_separable(pflip=.25), 20, 20, 5))"
      ],
      "execution_count": null,
      "outputs": [
        {
          "output_type": "stream",
          "name": "stdout",
          "text": [
            "d = 2, n = 20, theta shape = (2, 1), theta_0 shape = (1,)\n",
            "shape x = (2,), y = (), theta = (2, 1), theta_0 = (1,)\n",
            "theta shape = (2, 1), theta_0 shape = (1,), data_test shape = (2, 20)\n",
            "[[-3.76432693]\n",
            " [ 0.94668048]]\n",
            "[[False False False  True  True False False False  True False False  True\n",
            "  False False  True  True False False  True False]]\n",
            "d = 2, n = 20, theta shape = (2, 1), theta_0 shape = (1,)\n",
            "shape x = (2,), y = (), theta = (2, 1), theta_0 = (1,)\n",
            "theta shape = (2, 1), theta_0 shape = (1,), data_test shape = (2, 20)\n",
            "[[-3.76432693]\n",
            " [ 0.94668048]]\n",
            "[[False False False  True  True False False False  True False False  True\n",
            "  False False  True  True False False  True False]]\n",
            "d = 2, n = 20, theta shape = (2, 1), theta_0 shape = (1,)\n",
            "shape x = (2,), y = (), theta = (2, 1), theta_0 = (1,)\n",
            "theta shape = (2, 1), theta_0 shape = (1,), data_test shape = (2, 20)\n",
            "[[-3.76432693]\n",
            " [ 0.94668048]]\n",
            "[[False False False  True  True False False False  True False False  True\n",
            "  False False  True  True False False  True False]]\n",
            "d = 2, n = 20, theta shape = (2, 1), theta_0 shape = (1,)\n",
            "shape x = (2,), y = (), theta = (2, 1), theta_0 = (1,)\n",
            "theta shape = (2, 1), theta_0 shape = (1,), data_test shape = (2, 20)\n",
            "[[-3.76432693]\n",
            " [ 0.94668048]]\n",
            "[[False False False  True  True False False False  True False False  True\n",
            "  False False  True  True False False  True False]]\n",
            "d = 2, n = 20, theta shape = (2, 1), theta_0 shape = (1,)\n",
            "shape x = (2,), y = (), theta = (2, 1), theta_0 = (1,)\n",
            "theta shape = (2, 1), theta_0 shape = (1,), data_test shape = (2, 20)\n",
            "[[-3.76432693]\n",
            " [ 0.94668048]]\n",
            "[[False False False  True  True False False False  True False False  True\n",
            "  False False  True  True False False  True False]]\n",
            "0.35\n"
          ]
        }
      ]
    },
    {
      "cell_type": "code",
      "metadata": {
        "colab": {
          "base_uri": "https://localhost:8080/"
        },
        "id": "c4BhYyIPSazj",
        "outputId": "19884328-a484-4560-b8e4-b6d09e8513fd"
      },
      "source": [
        "print(eval_learning_alg_new(averaged_perceptron, gen_flipped_lin_separable(pflip=.1), 20, 20, 5))"
      ],
      "execution_count": null,
      "outputs": [
        {
          "output_type": "stream",
          "name": "stdout",
          "text": [
            "d = 2, n = 20, theta shape = (2, 1), theta_0 shape = (1,)\n",
            "theta shape = (2, 1), theta_0 shape = (1,), data_test shape = (2, 20)\n",
            "[[-0.41188657]\n",
            " [ 3.35780628]]\n",
            "[[ True False  True  True False  True  True  True False  True  True  True\n",
            "   True  True False  True  True  True  True False]]\n",
            "d = 2, n = 20, theta shape = (2, 1), theta_0 shape = (1,)\n",
            "theta shape = (2, 1), theta_0 shape = (1,), data_test shape = (2, 20)\n",
            "[[-0.41188657]\n",
            " [ 3.35780628]]\n",
            "[[ True False  True  True False  True  True  True False  True  True  True\n",
            "   True  True False  True  True  True  True False]]\n",
            "d = 2, n = 20, theta shape = (2, 1), theta_0 shape = (1,)\n",
            "theta shape = (2, 1), theta_0 shape = (1,), data_test shape = (2, 20)\n",
            "[[-0.41188657]\n",
            " [ 3.35780628]]\n",
            "[[ True False  True  True False  True  True  True False  True  True  True\n",
            "   True  True False  True  True  True  True False]]\n",
            "d = 2, n = 20, theta shape = (2, 1), theta_0 shape = (1,)\n",
            "theta shape = (2, 1), theta_0 shape = (1,), data_test shape = (2, 20)\n",
            "[[-0.41188657]\n",
            " [ 3.35780628]]\n",
            "[[ True False  True  True False  True  True  True False  True  True  True\n",
            "   True  True False  True  True  True  True False]]\n",
            "d = 2, n = 20, theta shape = (2, 1), theta_0 shape = (1,)\n",
            "theta shape = (2, 1), theta_0 shape = (1,), data_test shape = (2, 20)\n",
            "[[-0.41188657]\n",
            " [ 3.35780628]]\n",
            "[[ True False  True  True False  True  True  True False  True  True  True\n",
            "   True  True False  True  True  True  True False]]\n",
            "0.75\n"
          ]
        }
      ]
    },
    {
      "cell_type": "code",
      "metadata": {
        "colab": {
          "base_uri": "https://localhost:8080/"
        },
        "id": "gRcsTEUFSbqY",
        "outputId": "19485960-c3b2-47d6-d30d-69e01b02586a"
      },
      "source": [
        "print(eval_learning_alg_new(averaged_perceptron, gen_flipped_lin_separable(pflip=.25), 20, 20, 5))"
      ],
      "execution_count": null,
      "outputs": [
        {
          "output_type": "stream",
          "name": "stdout",
          "text": [
            "d = 2, n = 20, theta shape = (2, 1), theta_0 shape = (1,)\n",
            "theta shape = (2, 1), theta_0 shape = (1,), data_test shape = (2, 20)\n",
            "[[-0.53181093]\n",
            " [ 0.69913461]]\n",
            "[[False  True False False  True  True  True  True False  True  True False\n",
            "  False False False  True False False  True  True]]\n",
            "d = 2, n = 20, theta shape = (2, 1), theta_0 shape = (1,)\n",
            "theta shape = (2, 1), theta_0 shape = (1,), data_test shape = (2, 20)\n",
            "[[-0.53181093]\n",
            " [ 0.69913461]]\n",
            "[[False  True False False  True  True  True  True False  True  True False\n",
            "  False False False  True False False  True  True]]\n",
            "d = 2, n = 20, theta shape = (2, 1), theta_0 shape = (1,)\n",
            "theta shape = (2, 1), theta_0 shape = (1,), data_test shape = (2, 20)\n",
            "[[-0.53181093]\n",
            " [ 0.69913461]]\n",
            "[[False  True False False  True  True  True  True False  True  True False\n",
            "  False False False  True False False  True  True]]\n",
            "d = 2, n = 20, theta shape = (2, 1), theta_0 shape = (1,)\n",
            "theta shape = (2, 1), theta_0 shape = (1,), data_test shape = (2, 20)\n",
            "[[-0.53181093]\n",
            " [ 0.69913461]]\n",
            "[[False  True False False  True  True  True  True False  True  True False\n",
            "  False False False  True False False  True  True]]\n",
            "d = 2, n = 20, theta shape = (2, 1), theta_0 shape = (1,)\n",
            "theta shape = (2, 1), theta_0 shape = (1,), data_test shape = (2, 20)\n",
            "[[-0.53181093]\n",
            " [ 0.69913461]]\n",
            "[[False  True False False  True  True  True  True False  True  True False\n",
            "  False False False  True False False  True  True]]\n",
            "0.5\n"
          ]
        }
      ]
    }
  ]
}